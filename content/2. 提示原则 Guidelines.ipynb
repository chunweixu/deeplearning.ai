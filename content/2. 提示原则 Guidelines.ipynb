{
  "cells": [
    {
      "cell_type": "markdown",
      "metadata": {
        "id": "view-in-github",
        "colab_type": "text"
      },
      "source": [
        "<a href=\"https://colab.research.google.com/github/chunweixu/repo/blob/main/content/2.%20%E6%8F%90%E7%A4%BA%E5%8E%9F%E5%88%99%20Guidelines.ipynb\" target=\"_parent\"><img src=\"https://colab.research.google.com/assets/colab-badge.svg\" alt=\"Open In Colab\"/></a>"
      ]
    },
    {
      "cell_type": "markdown",
      "source": [
        "## 吴恩达老师的Prompt Engineering课程学习\n",
        "\n",
        "本项目由李鲁鲁老师在DataWahle翻译的中文版本的吴恩达老师与 OpenAI 合作推出的 《ChatGPT Prompt Engineering for Developers》基础上，进行了一些自己的实践思考。\n",
        "\n",
        "原来项目的链接是 [https://github.com/datawhalechina/prompt-engineering-for-developers](https://github.com/datawhalechina/prompt-engineering-for-developers)\n",
        "\n",
        "每一课都在colab上进行了改造，并将链接放在了readme，可以直接用colab进行学习。"
      ],
      "metadata": {
        "id": "kmVT9EdX7N4U"
      }
    },
    {
      "cell_type": "markdown",
      "metadata": {
        "id": "gQz5j9Vi7J6s"
      },
      "source": [
        "# 第二章 编写 Prompt 的原则\n",
        "\n",
        "  本章的主要内容为编写 Prompt 的原则，在本章中，我们将给出两个编写 Prompt 的原则与一些相关的策略，你将练习基于这两个原则来编写有效的 Prompt，从而便捷而有效地使用 LLM。"
      ]
    },
    {
      "cell_type": "markdown",
      "metadata": {
        "id": "Ddan2M8J7J6t"
      },
      "source": [
        "## 一、环境配置"
      ]
    },
    {
      "cell_type": "markdown",
      "metadata": {
        "id": "-pWvPrk57J6u"
      },
      "source": [
        "本教程使用 OpenAI 所开放的 ChatGPT API，因此你需要首先拥有一个 ChatGPT 的 API_KEY（也可以直接访问官方网址在线测试），然后需要安装 openai 的第三方库"
      ]
    },
    {
      "cell_type": "markdown",
      "metadata": {
        "id": "0aD18oGi7J6u"
      },
      "source": [
        "首先需要安装所需第三方库：\n",
        "\n",
        "openai：\n",
        "\n",
        "```bash\n",
        "pip install openai\n",
        "```\n",
        "\n",
        "dotenv:\n",
        "\n",
        "```bash\n",
        "pip install -U python-dotenv\n",
        "```"
      ]
    },
    {
      "cell_type": "code",
      "source": [
        "! pip install openai"
      ],
      "metadata": {
        "id": "h4NAc7WC7fpn"
      },
      "execution_count": null,
      "outputs": []
    },
    {
      "cell_type": "code",
      "source": [
        "! pip install python-dotenv"
      ],
      "metadata": {
        "id": "KhIxMT9m7xas"
      },
      "execution_count": null,
      "outputs": []
    },
    {
      "cell_type": "code",
      "execution_count": null,
      "metadata": {
        "id": "dOvBYADv7J6v"
      },
      "outputs": [],
      "source": [
        "# 将自己的 API-KEY 导入系统环境变量\n",
        "# !export OPENAI_API_KEY='api-key'\n",
        "# 李鲁鲁: colab 不需要走这一步"
      ]
    },
    {
      "cell_type": "code",
      "execution_count": null,
      "metadata": {
        "id": "fi8Byn4f7J6v"
      },
      "outputs": [],
      "source": [
        "import openai\n",
        "import os\n",
        "from dotenv import load_dotenv, find_dotenv\n",
        "# 导入第三方库\n",
        "\n",
        "# _ = load_dotenv(find_dotenv())\n",
        "# 读取系统中的环境变量\n",
        "\n",
        "openai.api_key  = 'sk-'\n",
        "# 李鲁鲁 在这里设置你的API_KEY"
      ]
    },
    {
      "cell_type": "markdown",
      "metadata": {
        "id": "rHeMCmhc7J6w"
      },
      "source": [
        "我们将在后续课程中深入探究 OpenAI 提供的 ChatCompletion API 的使用方法，在此处，我们先将它封装成一个函数，你无需知道其内部机理，仅需知道调用该函数输入 Prompt 其将会给出对应的 Completion 即可。"
      ]
    },
    {
      "cell_type": "code",
      "execution_count": null,
      "metadata": {
        "id": "0gQKsQUT7J6w"
      },
      "outputs": [],
      "source": [
        "# 一个封装 OpenAI 接口的函数，参数为 Prompt，返回对应结果\n",
        "def get_completion(prompt, model=\"gpt-3.5-turbo\"):\n",
        "    '''\n",
        "    prompt: 对应的提示\n",
        "    model: 调用的模型，默认为 gpt-3.5-turbo(ChatGPT)，有内测资格的用户可以选择 gpt-4\n",
        "    '''\n",
        "    messages = [{\"role\": \"user\", \"content\": prompt}]\n",
        "    response = openai.ChatCompletion.create(\n",
        "        model=model,\n",
        "        messages=messages,\n",
        "        temperature=0, # 模型输出的温度系数，控制输出的随机程度\n",
        "    )\n",
        "    # 调用 OpenAI 的 ChatCompletion 接口\n",
        "    return response.choices[0].message[\"content\"]\n"
      ]
    },
    {
      "cell_type": "markdown",
      "metadata": {
        "id": "LXHo20wk7J6w"
      },
      "source": [
        "## 二、两个基本原则"
      ]
    },
    {
      "cell_type": "markdown",
      "metadata": {
        "id": "_xpoytvL7J6x"
      },
      "source": [
        "### 原则一：编写清晰、具体的指令\n",
        "\n",
        "你应该通过提供尽可能清晰和具体的指令来表达您希望模型执行的操作。这将引导模型给出正确的输出，并减少你得到无关或不正确响应的可能。编写清晰的指令不意味着简短的指令，因为在许多情况下，更长的提示实际上更清晰且提供了更多上下文，这实际上可能导致更详细更相关的输出。"
      ]
    },
    {
      "cell_type": "markdown",
      "metadata": {
        "id": "Mpkg7FRs7J6x"
      },
      "source": [
        "**策略一：使用分隔符清晰地表示输入的不同部分**，分隔符可以是：```，\"\"，<>，\\<tag>，<\\tag>等\n",
        "\n",
        "你可以使用任何明显的标点符号将特定的文本部分与提示的其余部分分开。这可以是任何可以使模型明确知道这是一个单独部分的标记。使用分隔符是一种可以避免提示注入的有用技术。提示注入是指如果用户将某些输入添加到提示中，则可能会向模型提供与您想要执行的操作相冲突的指令，从而使其遵循冲突的指令而不是执行您想要的操作。即，输入里面可能包含其他指令，会覆盖掉你的指令。对此，使用分隔符是一个不错的策略。\n",
        "\n",
        "以下是一个例子，我们给出一段话并要求 GPT 进行总结，在该示例中我们使用 ``` 来作为分隔符\n"
      ]
    },
    {
      "cell_type": "code",
      "execution_count": null,
      "metadata": {
        "colab": {
          "base_uri": "https://localhost:8080/"
        },
        "id": "ehmrOyLp7J6x",
        "outputId": "5883d6ba-9bbe-4cfc-8f9b-7419796ab5fe"
      },
      "outputs": [
        {
          "output_type": "stream",
          "name": "stdout",
          "text": [
            "Clear and specific instructions should be provided to guide a model towards the desired output, and longer prompts can provide more clarity and context for the model, leading to more detailed and relevant outputs.\n"
          ]
        }
      ],
      "source": [
        "# 中文版见下一个 cell\n",
        "text = f\"\"\"\n",
        "You should express what you want a model to do by \\ \n",
        "providing instructions that are as clear and \\ \n",
        "specific as you can possibly make them. \\ \n",
        "This will guide the model towards the desired output, \\ \n",
        "and reduce the chances of receiving irrelevant \\ \n",
        "or incorrect responses. Don't confuse writing a \\ \n",
        "clear prompt with writing a short prompt. \\ \n",
        "In many cases, longer prompts provide more clarity \\ \n",
        "and context for the model, which can lead to \\ \n",
        "more detailed and relevant outputs.\n",
        "\"\"\"\n",
        "prompt = f\"\"\"\n",
        "Summarize the text delimited by triple backticks \\ \n",
        "into a single sentence.\n",
        "```{text}```\n",
        "\"\"\"\n",
        "response = get_completion(prompt)\n",
        "print(response)"
      ]
    },
    {
      "cell_type": "markdown",
      "source": [
        "李鲁鲁.其实这里如果你觉得看英文累，也可以在prompt最后增加\"then translate the result into Chinese\"."
      ],
      "metadata": {
        "id": "ztn_epai8Q2w"
      }
    },
    {
      "cell_type": "code",
      "execution_count": null,
      "metadata": {
        "colab": {
          "base_uri": "https://localhost:8080/"
        },
        "id": "lMCwDYgt7J6y",
        "outputId": "fd05e123-2ccb-419e-cb1e-454efa68ac3e"
      },
      "outputs": [
        {
          "output_type": "stream",
          "name": "stdout",
          "text": [
            "提供清晰具体的指示，避免无关或不正确响应，不要混淆写清晰和写简短，更长的提示可以提供更多清晰度和上下文信息，导致更详细和相关的输出。\n"
          ]
        }
      ],
      "source": [
        "text = f\"\"\"\n",
        "你应该提供尽可能清晰、具体的指示，以表达你希望模型执行的任务。\\\n",
        "这将引导模型朝向所需的输出，并降低收到无关或不正确响应的可能性。\\\n",
        "不要将写清晰的提示与写简短的提示混淆。\\\n",
        "在许多情况下，更长的提示可以为模型提供更多的清晰度和上下文信息，从而导致更详细和相关的输出。\n",
        "\"\"\"\n",
        "# 需要总结的文本内容\n",
        "prompt = f\"\"\"\n",
        "把用三个反引号括起来的文本总结成一句话。\n",
        "```{text}```\n",
        "\"\"\"\n",
        "# 指令内容，使用 ``` 来分隔指令和待总结的内容\n",
        "response = get_completion(prompt)\n",
        "print(response)"
      ]
    },
    {
      "cell_type": "markdown",
      "source": [
        "李鲁鲁：反引号没有那么符合中文习惯，我一般使用三个双引号"
      ],
      "metadata": {
        "id": "WB3Mmk5J8eON"
      }
    },
    {
      "cell_type": "code",
      "source": [],
      "metadata": {
        "id": "QIDUL_9E8d5J"
      },
      "execution_count": null,
      "outputs": []
    },
    {
      "cell_type": "markdown",
      "metadata": {
        "id": "KVeW-xcT7J6z"
      },
      "source": [
        "  "
      ]
    },
    {
      "cell_type": "markdown",
      "metadata": {
        "id": "6BRdAoY37J6z"
      },
      "source": [
        "**策略二：要求一个结构化的输出**，可以是 Json、HTML 等格式\n",
        "\n",
        "第二个策略是要求生成一个结构化的输出，这可以使模型的输出更容易被我们解析，例如，你可以在 Python 中将其读入字典或列表中。。\n",
        "\n",
        "在以下示例中，我们要求 GPT 生成三本书的标题、作者和类别，并要求 GPT 以 Json 的格式返回给我们，为便于解析，我们指定了 Json 的键。"
      ]
    },
    {
      "cell_type": "code",
      "execution_count": null,
      "metadata": {
        "colab": {
          "base_uri": "https://localhost:8080/"
        },
        "id": "1oz12SO17J6z",
        "outputId": "a40c404e-10f3-4b55-e8df-3446c0eba169"
      },
      "outputs": [
        {
          "output_type": "stream",
          "name": "stdout",
          "text": [
            "[\n",
            "  {\n",
            "    \"book_id\": 1,\n",
            "    \"title\": \"The Lost City of Zorath\",\n",
            "    \"author\": \"Aria Blackwood\",\n",
            "    \"genre\": \"Fantasy\"\n",
            "  },\n",
            "  {\n",
            "    \"book_id\": 2,\n",
            "    \"title\": \"The Last Survivors\",\n",
            "    \"author\": \"Ethan Stone\",\n",
            "    \"genre\": \"Science Fiction\"\n",
            "  },\n",
            "  {\n",
            "    \"book_id\": 3,\n",
            "    \"title\": \"The Secret Life of Bees\",\n",
            "    \"author\": \"Lila Rose\",\n",
            "    \"genre\": \"Romance\"\n",
            "  }\n",
            "]\n"
          ]
        }
      ],
      "source": [
        "prompt = f\"\"\"\n",
        "Generate a list of three made-up book titles along \\ \n",
        "with their authors and genres. \n",
        "Provide them in JSON format with the following keys: \n",
        "book_id, title, author, genre.\n",
        "\"\"\"\n",
        "response = get_completion(prompt)\n",
        "print(response)\n"
      ]
    },
    {
      "cell_type": "code",
      "execution_count": null,
      "metadata": {
        "colab": {
          "base_uri": "https://localhost:8080/"
        },
        "id": "gqAZXBnc7J6z",
        "outputId": "d3521d1b-9624-4fdd-914b-733a4ea7dea3"
      },
      "outputs": [
        {
          "output_type": "stream",
          "name": "stdout",
          "text": [
            "{\n",
            "  \"books\": [\n",
            "    {\n",
            "      \"book_id\": 1,\n",
            "      \"title\": \"The Shadow of the Wind\",\n",
            "      \"author\": \"Carlos Ruiz Zafón\",\n",
            "      \"genre\": \"Mystery\"\n",
            "    },\n",
            "    {\n",
            "      \"book_id\": 2,\n",
            "      \"title\": \"The Name of the Wind\",\n",
            "      \"author\": \"Patrick Rothfuss\",\n",
            "      \"genre\": \"Fantasy\"\n",
            "    },\n",
            "    {\n",
            "      \"book_id\": 3,\n",
            "      \"title\": \"The Hitchhiker's Guide to the Galaxy\",\n",
            "      \"author\": \"Douglas Adams\",\n",
            "      \"genre\": \"Science Fiction\"\n",
            "    }\n",
            "  ]\n",
            "}\n"
          ]
        }
      ],
      "source": [
        "prompt = f\"\"\"\n",
        "请生成包括书名、作者和类别的三本虚构书籍清单，\\\n",
        "并以 JSON 格式提供，其中包含以下键:book_id、title、author、genre。\n",
        "\"\"\"\n",
        "response = get_completion(prompt)\n",
        "print(response)\n"
      ]
    },
    {
      "cell_type": "markdown",
      "source": [
        "李鲁鲁：这里不知道DataWhale有没有发现，内容仍然是英文的。\n",
        "\n",
        "我们显然没有那么希望是这样的 我们还是希望书的标题、作者是中文，让我们来试试下面这个prompt"
      ],
      "metadata": {
        "id": "JiEU2SpE8xZ8"
      }
    },
    {
      "cell_type": "code",
      "source": [
        "prompt = f\"\"\"\n",
        "请生成包括书名、作者和类别的三本虚构书籍清单，其中标题和作者需要是中文的\\\n",
        "并以 JSON 格式提供，其中包含以下键:标题、作者、book_id、genre。\n",
        "\"\"\"\n",
        "response = get_completion(prompt)\n",
        "print(response)\n"
      ],
      "metadata": {
        "colab": {
          "base_uri": "https://localhost:8080/"
        },
        "id": "J74TCdEd9N9_",
        "outputId": "f5299972-31a1-4eb2-fa3f-377f7be67d78"
      },
      "execution_count": null,
      "outputs": [
        {
          "output_type": "stream",
          "name": "stdout",
          "text": [
            "{\n",
            "  \"book1\": {\n",
            "    \"标题\": \"时间之河\",\n",
            "    \"作者\": \"张三\",\n",
            "    \"book_id\": \"001\",\n",
            "    \"genre\": \"科幻\"\n",
            "  },\n",
            "  \"book2\": {\n",
            "    \"标题\": \"红楼梦\",\n",
            "    \"作者\": \"曹雪芹\",\n",
            "    \"book_id\": \"002\",\n",
            "    \"genre\": \"古典文学\"\n",
            "  },\n",
            "  \"book3\": {\n",
            "    \"标题\": \"三体\",\n",
            "    \"作者\": \"刘慈欣\",\n",
            "    \"book_id\": \"003\",\n",
            "    \"genre\": \"科幻\"\n",
            "  }\n",
            "}\n"
          ]
        }
      ]
    },
    {
      "cell_type": "markdown",
      "metadata": {
        "id": "yqCwLVzn7J6z"
      },
      "source": [
        " "
      ]
    },
    {
      "cell_type": "markdown",
      "metadata": {
        "id": "5PHs-E6e7J60"
      },
      "source": [
        "**策略三：要求模型检查是否满足条件**\n",
        "\n",
        "如果任务做出的假设不一定满足，我们可以告诉模型先检查这些假设，如果不满足，指示并停止执行。你还可以考虑潜在的边缘情况以及模型应该如何处理它们，以避免意外的错误或结果。\n",
        "\n",
        "在如下示例中，我们将分别给模型两段文本，分别是制作茶的步骤以及一段没有明确步骤的文本。我们将要求模型判断其是否包含一系列指令，如果包含则按照给定格式重新编写指令，不包含则回答未提供步骤。"
      ]
    },
    {
      "cell_type": "code",
      "execution_count": null,
      "metadata": {
        "colab": {
          "base_uri": "https://localhost:8080/"
        },
        "id": "b3a4ctwg7J60",
        "outputId": "373a49c2-0b02-4891-e654-84ffafccf585"
      },
      "outputs": [
        {
          "output_type": "stream",
          "name": "stdout",
          "text": [
            "Completion for Text 1:\n",
            "Step 1 - Get some water boiling.\n",
            "Step 2 - Grab a cup and put a tea bag in it.\n",
            "Step 3 - Once the water is hot enough, pour it over the tea bag.\n",
            "Step 4 - Let it sit for a bit so the tea can steep.\n",
            "Step 5 - After a few minutes, take out the tea bag.\n",
            "Step 6 - Add some sugar or milk to taste.\n",
            "Step 7 - Enjoy your delicious cup of tea!\n",
            "\n",
            "\n"
          ]
        }
      ],
      "source": [
        "text_1 = f\"\"\"\n",
        "Making a cup of tea is easy! First, you need to get some \\ \n",
        "water boiling. While that's happening, \\ \n",
        "grab a cup and put a tea bag in it. Once the water is \\ \n",
        "hot enough, just pour it over the tea bag. \\ \n",
        "Let it sit for a bit so the tea can steep. After a \\ \n",
        "few minutes, take out the tea bag. If you \\ \n",
        "like, you can add some sugar or milk to taste. \\ \n",
        "And that's it! You've got yourself a delicious \\ \n",
        "cup of tea to enjoy.\n",
        "\"\"\"\n",
        "prompt = f\"\"\"\n",
        "You will be provided with text delimited by triple quotes. \n",
        "If it contains a sequence of instructions, \\ \n",
        "re-write those instructions in the following format:\n",
        "\n",
        "Step 1 - ...\n",
        "Step 2 - …\n",
        "…\n",
        "Step N - …\n",
        "\n",
        "If the text does not contain a sequence of instructions, \\ \n",
        "then simply write \\\"No steps provided.\\\"\n",
        "\n",
        "\\\"\\\"\\\"{text_1}\\\"\\\"\\\"\n",
        "\"\"\"\n",
        "response = get_completion(prompt)\n",
        "print(\"Completion for Text 1:\")\n",
        "print(response)"
      ]
    },
    {
      "cell_type": "code",
      "execution_count": null,
      "metadata": {
        "colab": {
          "base_uri": "https://localhost:8080/"
        },
        "id": "8HJIPoiL7J60",
        "outputId": "85010fc7-66d4-458c-e457-4ee8ed404f91"
      },
      "outputs": [
        {
          "output_type": "stream",
          "name": "stdout",
          "text": [
            "Completion for Text 2:\n",
            "No steps provided.\n"
          ]
        }
      ],
      "source": [
        "text_2 = f\"\"\"\n",
        "The sun is shining brightly today, and the birds are \\\n",
        "singing. It's a beautiful day to go for a \\ \n",
        "walk in the park. The flowers are blooming, and the \\ \n",
        "trees are swaying gently in the breeze. People \\ \n",
        "are out and about, enjoying the lovely weather. \\ \n",
        "Some are having picnics, while others are playing \\ \n",
        "games or simply relaxing on the grass. It's a \\ \n",
        "perfect day to spend time outdoors and appreciate the \\ \n",
        "beauty of nature.\n",
        "\"\"\"\n",
        "prompt = f\"\"\"You will be provided with text delimited by triple quotes. \n",
        "If it contains a sequence of instructions, \\ \n",
        "re-write those instructions in the following format:\n",
        "Step 1 - ...\n",
        "Step 2 - …\n",
        "…\n",
        "Step N - …\n",
        "\n",
        "If the text does not contain a sequence of instructions, \\ \n",
        "then simply write \\\"No steps provided.\\\"\n",
        "\n",
        "\\\"\\\"\\\"{text_2}\\\"\\\"\\\"\n",
        "\"\"\"\n",
        "response = get_completion(prompt)\n",
        "print(\"Completion for Text 2:\")\n",
        "print(response)"
      ]
    },
    {
      "cell_type": "markdown",
      "source": [
        "李鲁鲁：我觉得这里特别好的是这个prompt自带一个garding，对于预料外的输入，可以有很好的处理，一会儿我来试验一个真实的我们需要的例子。"
      ],
      "metadata": {
        "id": "kDc2KQ5u9-8R"
      }
    },
    {
      "cell_type": "code",
      "execution_count": null,
      "metadata": {
        "colab": {
          "base_uri": "https://localhost:8080/"
        },
        "id": "K_KJDJey7J60",
        "outputId": "61a7fbb6-eba5-4b3c-d3d9-5d75db0eae82"
      },
      "outputs": [
        {
          "output_type": "stream",
          "name": "stdout",
          "text": [
            "Text 1 的总结:\n",
            "第一步 - 把水烧开。\n",
            "第二步 - 拿一个杯子并把茶包放进去。\n",
            "第三步 - 把热水倒在茶包上。\n",
            "第四步 - 等待几分钟，让茶叶浸泡。\n",
            "第五步 - 取出茶包。\n",
            "第六步 - 如果你愿意，可以加一些糖或牛奶调味。\n",
            "第七步 - 就这样，你可以享受一杯美味的茶了。\n"
          ]
        }
      ],
      "source": [
        "# 有步骤的文本\n",
        "text_1 = f\"\"\"\n",
        "泡一杯茶很容易。首先，需要把水烧开。\\\n",
        "在等待期间，拿一个杯子并把茶包放进去。\\\n",
        "一旦水足够热，就把它倒在茶包上。\\\n",
        "等待一会儿，让茶叶浸泡。几分钟后，取出茶包。\\\n",
        "如果你愿意，可以加一些糖或牛奶调味。\\\n",
        "就这样，你可以享受一杯美味的茶了。\n",
        "\"\"\"\n",
        "prompt = f\"\"\"\n",
        "您将获得由三个引号括起来的文本。\\\n",
        "如果它包含一系列的指令，则需要按照以下格式重新编写这些指令：\n",
        "\n",
        "第一步 - ...\n",
        "第二步 - …\n",
        "…\n",
        "第N步 - …\n",
        "\n",
        "如果文本中不包含一系列的指令，则直接写“未提供步骤”。\"\n",
        "\\\"\\\"\\\"{text_1}\\\"\\\"\\\"\n",
        "\"\"\"\n",
        "response = get_completion(prompt)\n",
        "print(\"Text 1 的总结:\")\n",
        "print(response)"
      ]
    },
    {
      "cell_type": "code",
      "execution_count": null,
      "metadata": {
        "colab": {
          "base_uri": "https://localhost:8080/"
        },
        "id": "EbHePNXZ7J61",
        "outputId": "3cbaa875-c56e-48c8-fbd9-19363ca0f9d0"
      },
      "outputs": [
        {
          "output_type": "stream",
          "name": "stdout",
          "text": [
            "Text 2 的总结:\n",
            "未提供步骤。\n"
          ]
        }
      ],
      "source": [
        "# 无步骤的文本\n",
        "text_2 = f\"\"\"\n",
        "今天阳光明媚，鸟儿在歌唱。\\\n",
        "这是一个去公园散步的美好日子。\\\n",
        "鲜花盛开，树枝在微风中轻轻摇曳。\\\n",
        "人们外出享受着这美好的天气，有些人在野餐，有些人在玩游戏或者在草地上放松。\\\n",
        "这是一个完美的日子，可以在户外度过并欣赏大自然的美景。\n",
        "\"\"\"\n",
        "prompt = f\"\"\"\n",
        "您将获得由三个引号括起来的文本。\\\n",
        "如果它包含一系列的指令，则需要按照以下格式重新编写这些指令：\n",
        "\n",
        "第一步 - ...\n",
        "第二步 - …\n",
        "…\n",
        "第N步 - …\n",
        "\n",
        "如果文本中不包含一系列的指令，则直接写“未提供步骤”。\"\n",
        "\\\"\\\"\\\"{text_2}\\\"\\\"\\\"\n",
        "\"\"\"\n",
        "response = get_completion(prompt)\n",
        "print(\"Text 2 的总结:\")\n",
        "print(response)"
      ]
    },
    {
      "cell_type": "markdown",
      "metadata": {
        "id": "g7Nnz65V7J61"
      },
      "source": [
        " "
      ]
    },
    {
      "cell_type": "markdown",
      "source": [
        "李鲁鲁: 让我们来试一个我们在骆驼大乱斗中想完成的事情\n",
        "\n",
        "就是总结小说中的斗法片段"
      ],
      "metadata": {
        "id": "cGotsju6-9e6"
      }
    },
    {
      "cell_type": "code",
      "source": [
        "# 有步骤的文本\n",
        "text_1 = f\"\"\"\n",
        "韩立叹了一口气，原本还想费些口舌，看看能否糊弄过去，但如今看对方的神态和凭对方的心计，是一点迂回的余地都没有了，他和自己肯定只能有一个还可活在世上，还是不要白费口舌，先下手为强算了。\\\n",
        "想到这里，韩立二话不说，一扬左手一个精钢环就发出怪啸之声，直向“陆师兄”冲去，随后又把右手一亮，青黑色的葫芦出现在了手中，并从葫芦嘴中喷出了五六个黑糊糊的圆球，紧跟在钢环后而去。\\\n",
        "做完这一切韩立并未罢手，他空出的左手在虚空中略一比划，刹那间浮现了数个红色火球，袖子略微一动，把这些火球卷在其中，紧接着再冲“陆师兄”猛然一甩，口中低吐一个“去”字。\\\n",
        "顿时，夹带着一股炎热之气，火球们一窝蜂的四行散开，不同角度砸向了陆师兄。\\\n",
        "这一番出手，韩立几乎动用了未得到新法器之前，不使用符宝的一切进攻手段，特别是最后这手数弹并发的瞬发手法，更是韩立费了好大工夫才从吴风那里学到手的，为的就是想要打对方一个措手不及，一举闪电击毙对手。\n",
        "\"\"\"\n",
        "prompt = f\"\"\"\n",
        "您将获得由三个引号括起来的文本。\\\n",
        "如果它包含一系列的打斗的片段，则需要按照以下回合制描述的格式重新编写这些片段：\n",
        "\n",
        "第一回合 - <A> 使用 <A's skill>, <skill result description>\n",
        "第二回合 - <B> 使用 <B's skill>, <skill result description>\n",
        "…\n",
        "第N回合 - …\n",
        "\n",
        "如果文本中不包含一系列的打斗，则直接写“未提供打斗细节”。\"\n",
        "\\\"\\\"\\\"{text_1}\\\"\\\"\\\"\n",
        "\"\"\"\n",
        "response = get_completion(prompt)\n",
        "print(\"Text 1 的总结:\")\n",
        "print(response)"
      ],
      "metadata": {
        "colab": {
          "base_uri": "https://localhost:8080/"
        },
        "id": "WPvA2VVA-9N6",
        "outputId": "84b38b16-bc99-416e-d8f9-9def53f8ef88"
      },
      "execution_count": null,
      "outputs": [
        {
          "output_type": "stream",
          "name": "stdout",
          "text": [
            "Text 1 的总结:\n",
            "第一回合 - 韩立 使用 精钢环, 击中“陆师兄”\n",
            "第二回合 - 韩立 使用 葫芦中的黑糊糊圆球, 击中“陆师兄”\n",
            "第三回合 - 韩立 使用 火球术, 击中“陆师兄”\n",
            "未提供打斗细节。\n"
          ]
        }
      ]
    },
    {
      "cell_type": "markdown",
      "metadata": {
        "id": "iB9lAgIx7J61"
      },
      "source": [
        "**策略四：提供少量示例**\n",
        "\n",
        "即在要求模型执行实际任务之前，提供给它少量成功执行任务的示例。\n",
        "\n",
        "例如，在以下的示例中，我们告诉模型其任务是以一致的风格回答问题，并先给它一个孩子和一个祖父之间的对话的例子。孩子说，“教我耐心”，祖父用这些隐喻回答。因此，由于我们已经告诉模型要以一致的语气回答，现在我们说“教我韧性”，由于模型已经有了这个少样本示例，它将以类似的语气回答下一个任务。"
      ]
    },
    {
      "cell_type": "code",
      "execution_count": null,
      "metadata": {
        "colab": {
          "base_uri": "https://localhost:8080/"
        },
        "id": "qHXVMXir7J61",
        "outputId": "4c1c4844-6d8b-4ae9-fcdc-00bb09a0dc0c"
      },
      "outputs": [
        {
          "output_type": "stream",
          "name": "stdout",
          "text": [
            "<grandparent>: Resilience is like a tree that bends with the wind but never breaks. It is the ability to bounce back from adversity and keep moving forward, even when things get tough. Just like a tree that grows stronger with each storm it weathers, resilience is a quality that can be developed and strengthened over time.\n"
          ]
        }
      ],
      "source": [
        "prompt = f\"\"\"\n",
        "Your task is to answer in a consistent style.\n",
        "\n",
        "<child>: Teach me about patience.\n",
        "\n",
        "<grandparent>: The river that carves the deepest \\ \n",
        "valley flows from a modest spring; the \\ \n",
        "grandest symphony originates from a single note; \\ \n",
        "the most intricate tapestry begins with a solitary thread.\n",
        "\n",
        "<child>: Teach me about resilience.\n",
        "\"\"\"\n",
        "response = get_completion(prompt)\n",
        "print(response)"
      ]
    },
    {
      "cell_type": "code",
      "execution_count": null,
      "metadata": {
        "colab": {
          "base_uri": "https://localhost:8080/"
        },
        "id": "0fjXVDfd7J62",
        "outputId": "53157757-9fe9-46fc-8e7b-57a95eaaf1c7"
      },
      "outputs": [
        {
          "output_type": "stream",
          "name": "stdout",
          "text": [
            "<祖父母>: 韧性就像是一棵树，它需要经历风吹雨打、寒冬酷暑，才能成长得更加坚强。所以，当你遇到挫折和困难时，不要轻易放弃，要像树一样坚定地扎根，不断成长，最终成为一棵高大的树。\n"
          ]
        }
      ],
      "source": [
        "prompt = f\"\"\"\n",
        "你的任务是以一致的风格回答问题。\n",
        "\n",
        "<孩子>: 教我耐心。\n",
        "\n",
        "<祖父母>: 挖出最深峡谷的河流源于一处不起眼的泉眼；最宏伟的交响乐从单一的音符开始；最复杂的挂毯以一根孤独的线开始编织。\n",
        "\n",
        "<孩子>: 教我韧性。\n",
        "\"\"\"\n",
        "response = get_completion(prompt)\n",
        "print(response)"
      ]
    },
    {
      "cell_type": "markdown",
      "source": [
        "李鲁鲁：这种说教风格的学习\n",
        "\n",
        "直接让我想起了我小时候中二阶段（国中二年级）的文学创作巅峰\n",
        "\n",
        "那个时候很喜欢 纪伯伦的 《先知》 觉得先知的说法 风格非常说教\n",
        "\n",
        "我们不如现学现卖一段，这里就不使用代码了。\n"
      ],
      "metadata": {
        "id": "WIUM6GiPAXAO"
      }
    },
    {
      "cell_type": "markdown",
      "source": [
        "这里我们想让 《先知》 故事中的先知\n",
        "\n",
        "来讨论时间这个概念， 于是ChatGPT的输入\n",
        "\n",
        "```\n",
        "你的任务是以一致的风格回答问题。\n",
        "\n",
        "<市民>: 请和我们讨论一下\"孩子\"\n",
        "\n",
        "<先知>: \"\"\"你的孩子，其实不是你的孩子，\n",
        "他们是生命对于自身渴望而诞生的孩子，\n",
        "他们通过你来到这世界，却非因你而来，\n",
        "他们在你身边，却并不属于你。\n",
        "你可以给予他们的是你的爱，却不是你的想法，\n",
        "因为他们自己有自己的思想。\n",
        "你可以庇护的是他们的身体，却不是他们的灵魂，\n",
        "因为他们的灵魂属于明天，属于你做梦也无法达到的明天。\n",
        "你可以拼尽全力，变得象他们一样，\n",
        "却不要让他们变得和你一样，\n",
        "因为生命不会后退，也不在过去停留。\n",
        "你是弓，儿女是从你那里射出的箭。\n",
        "弓箭手望着未来之路上的箭靶，\n",
        "他用尽力气将你拉开，使他的箭射得又快又远。\n",
        "怀着快乐的心情，在弓箭手的手里弯曲吧，\n",
        "因为他爱一路飞翔的箭，也爱无比稳定的弓。\"\"\"\n",
        "\n",
        "<市民>:请和我们讨论一下\"衣服\"\n",
        "\n",
        "<先知>: 你们的衣服遮掩了你们许多的美，却不能遮盖住丑。\n",
        "尽管你们借衣服寻求隐私的自由，但你们找到的却是羁绊和束缚。\n",
        "但愿你们用自己的肌肤而不是衣服去迎接阳光和清风，\n",
        "因为阳光中有生命的气息，而风中有生命之手。\n",
        "你们中一些人说：“是北风织造了我们所穿的衣服。”\n",
        "我说，是的，的确是北风，\n",
        "但它以羞怯为织机，以纤弱的肌肉为纱线。\n",
        "它一旦完成工作，便会在林中大笑。\n",
        "不要忘记，羞怯原是抵挡不洁目光的盾牌。\n",
        "若无邪侪，那羞怯除了是精神上的束缚和污垢外还能是什么？\n",
        "也不要忘记，大地乐于感觉体赤裸的双脚，风儿渴望与你的头发嬉戏。\n",
        "\n",
        "<市民>:请和我们讨论一下\"时间\"\n",
        "```"
      ],
      "metadata": {
        "id": "T3FY8yLEAkCU"
      }
    },
    {
      "cell_type": "markdown",
      "source": [
        "让我们来看看GPT的输出\n",
        "\n",
        "```\n",
        "<先知>: 时间是一条河流，它汇聚着每个生命的流动和消逝。\n",
        "每个人都在时间的河流中漂泊，不断地向前推进。\n",
        "我们无法停止或掌控时间，但可以选择如何利用它。\n",
        "时间是宝贵的，它可以让我们成长、学习、改变和创造。\n",
        "但若我们不珍惜时间，它也会成为我们生命中的遗憾和遗失。\n",
        "无论过去、现在还是未来，时间都是无情的，它会不断流逝，\n",
        "我们唯一能做的就是珍惜它，珍惜每分每秒的生命，让我们的时间变得更加有意义和宝贵。\n",
        "```\n",
        "\n",
        "这个回答可以说是相当不错了。\n",
        "\n",
        "这里我们来挖个坑吧，我收集了所有纪伯伦的诗，如果这套课刷完了\n",
        "\n",
        "可以做个自动哲理机器人。。。"
      ],
      "metadata": {
        "id": "xRXcvp5qAwLI"
      }
    },
    {
      "cell_type": "markdown",
      "metadata": {
        "id": "6sg1_Me57J62"
      },
      "source": [
        "### 原则二：给模型时间去思考\n",
        "\n",
        "如果模型匆忙地得出了错误的结论，您应该尝试重新构思查询，请求模型在提供最终答案之前进行一系列相关的推理。换句话说，如果您给模型一个在短时间或用少量文字无法完成的任务，它可能会猜测错误。这种情况对人来说也是一样的。如果您让某人在没有时间计算出答案的情况下完成复杂的数学问题，他们也可能会犯错误。因此，在这些情况下，您可以指示模型花更多时间思考问题，这意味着它在任务上花费了更多的计算资源。"
      ]
    },
    {
      "cell_type": "markdown",
      "metadata": {
        "id": "gZsLtXS97J62"
      },
      "source": [
        "**策略一：指定完成任务所需的步骤**\n",
        "\n",
        "接下来我们将通过给定一个复杂任务，给出完成该任务的一系列步骤，来展示这一策略的效果"
      ]
    },
    {
      "cell_type": "markdown",
      "metadata": {
        "id": "ArWS3p4t7J62"
      },
      "source": [
        "首先我们描述了杰克和吉尔的故事，并给出一个指令。该指令是执行以下操作。首先，用一句话概括三个反引号限定的文本。第二，将摘要翻译成法语。第三，在法语摘要中列出每个名称。第四，输出包含以下键的 JSON 对象：法语摘要和名称数。然后我们要用换行符分隔答案。"
      ]
    },
    {
      "cell_type": "code",
      "execution_count": null,
      "metadata": {
        "id": "U1jzWvT-7J62",
        "outputId": "88abb552-1721-4de6-eba2-1d460a12daff"
      },
      "outputs": [
        {
          "name": "stdout",
          "output_type": "stream",
          "text": [
            "Completion for prompt 1:\n",
            "Two siblings, Jack and Jill, go on a quest to fetch water from a well on a hilltop, but misfortune strikes and they both tumble down the hill, returning home slightly battered but with their adventurous spirits undimmed.\n",
            "\n",
            "Deux frères et sœurs, Jack et Jill, partent en quête d'eau d'un puits sur une colline, mais un malheur frappe et ils tombent tous les deux de la colline, rentrant chez eux légèrement meurtris mais avec leurs esprits aventureux intacts. \n",
            "Noms: Jack, Jill.\n",
            "\n",
            "{\n",
            "  \"french_summary\": \"Deux frères et sœurs, Jack et Jill, partent en quête d'eau d'un puits sur une colline, mais un malheur frappe et ils tombent tous les deux de la colline, rentrant chez eux légèrement meurtris mais avec leurs esprits aventureux intacts.\",\n",
            "  \"num_names\": 2\n",
            "}\n"
          ]
        }
      ],
      "source": [
        "text = f\"\"\"\n",
        "In a charming village, siblings Jack and Jill set out on \\ \n",
        "a quest to fetch water from a hilltop \\ \n",
        "well. As they climbed, singing joyfully, misfortune \\ \n",
        "struck—Jack tripped on a stone and tumbled \\ \n",
        "down the hill, with Jill following suit. \\ \n",
        "Though slightly battered, the pair returned home to \\ \n",
        "comforting embraces. Despite the mishap, \\ \n",
        "their adventurous spirits remained undimmed, and they \\ \n",
        "continued exploring with delight.\n",
        "\"\"\"\n",
        "# example 1\n",
        "prompt_1 = f\"\"\"\n",
        "Perform the following actions: \n",
        "1 - Summarize the following text delimited by triple \\\n",
        "backticks with 1 sentence.\n",
        "2 - Translate the summary into French.\n",
        "3 - List each name in the French summary.\n",
        "4 - Output a json object that contains the following \\\n",
        "keys: french_summary, num_names.\n",
        "\n",
        "Separate your answers with line breaks.\n",
        "\n",
        "Text:\n",
        "```{text}```\n",
        "\"\"\"\n",
        "response = get_completion(prompt_1)\n",
        "print(\"Completion for prompt 1:\")\n",
        "print(response)"
      ]
    },
    {
      "cell_type": "code",
      "execution_count": null,
      "metadata": {
        "id": "vtQ8byoc7J63",
        "outputId": "cf4e6972-203d-417e-dab0-ae41d86ded0c"
      },
      "outputs": [
        {
          "name": "stdout",
          "output_type": "stream",
          "text": [
            "prompt 1:\n",
            "1-兄妹在山顶井里打水时发生意外，但仍然保持冒险精神。\n",
            "2-Dans un charmant village, les frère et sœur Jack et Jill partent chercher de l'eau dans un puits au sommet de la montagne. Malheureusement, Jack trébuche sur une pierre et tombe de la montagne, suivi de près par Jill. Bien qu'ils soient légèrement blessés, ils retournent chez eux chaleureusement. Malgré cet accident, leur esprit d'aventure ne diminue pas et ils continuent à explorer joyeusement.\n",
            "3-Jack, Jill\n",
            "4-{\n",
            "   \"French_summary\": \"Dans un charmant village, les frère et sœur Jack et Jill partent chercher de l'eau dans un puits au sommet de la montagne. Malheureusement, Jack trébuche sur une pierre et tombe de la montagne, suivi de près par Jill. Bien qu'ils soient légèrement blessés, ils retournent chez eux chaleureusement. Malgré cet accident, leur esprit d'aventure ne diminue pas et ils continuent à explorer joyeusement.\",\n",
            "   \"num_names\": 2\n",
            "}\n"
          ]
        }
      ],
      "source": [
        "text = f\"\"\"\n",
        "在一个迷人的村庄里，兄妹杰克和吉尔出发去一个山顶井里打水。\\\n",
        "他们一边唱着欢乐的歌，一边往上爬，\\\n",
        "然而不幸降临——杰克绊了一块石头，从山上滚了下来，吉尔紧随其后。\\\n",
        "虽然略有些摔伤，但他们还是回到了温馨的家中。\\\n",
        "尽管出了这样的意外，他们的冒险精神依然没有减弱，继续充满愉悦地探索。\n",
        "\"\"\"\n",
        "# example 1\n",
        "prompt_1 = f\"\"\"\n",
        "执行以下操作：\n",
        "1-用一句话概括下面用三个反引号括起来的文本。\n",
        "2-将摘要翻译成法语。\n",
        "3-在法语摘要中列出每个人名。\n",
        "4-输出一个 JSON 对象，其中包含以下键：French_summary，num_names。\n",
        "\n",
        "请用换行符分隔您的答案。\n",
        "\n",
        "Text:\n",
        "```{text}```\n",
        "\"\"\"\n",
        "response = get_completion(prompt_1)\n",
        "print(\"prompt 1:\")\n",
        "print(response)"
      ]
    },
    {
      "cell_type": "markdown",
      "metadata": {
        "id": "qc5CkgDT7J63"
      },
      "source": [
        "上述输出仍然存在一定问题，例如，键“姓名”会被替换为法语，因此，我们给出一个更好的 Prompt，该 Prompt 指定了输出的格式"
      ]
    },
    {
      "cell_type": "code",
      "execution_count": null,
      "metadata": {
        "id": "ogLoMjEO7J63",
        "outputId": "9d06ecbc-12b3-43e1-9f5f-d3c7c9186a99"
      },
      "outputs": [
        {
          "name": "stdout",
          "output_type": "stream",
          "text": [
            "\n",
            "Completion for prompt 2:\n",
            "Summary: 兄妹杰克和吉尔在山顶井里打水时发生意外，但他们仍然保持冒险精神继续探索。\n",
            "Translation: Jack and Jill, deux frères et sœurs, ont eu un accident en allant chercher de l'eau dans un puits de montagne, mais ils ont continué à explorer avec un esprit d'aventure.\n",
            "Names: Jack, Jill\n",
            "Output JSON: {\"french_summary\": \"Jack and Jill, deux frères et sœurs, ont eu un accident en allant chercher de l'eau dans un puits de montagne, mais ils ont continué à explorer avec un esprit d'aventure.\", \"num_names\": 2}\n"
          ]
        }
      ],
      "source": [
        "prompt_2 = f\"\"\"\n",
        "Your task is to perform the following actions: \n",
        "1 - Summarize the following text delimited by <> with 1 sentence.\n",
        "2 - Translate the summary into French.\n",
        "3 - List each name in the French summary.\n",
        "4 - Output a json object that contains the \n",
        "following keys: french_summary, num_names.\n",
        "\n",
        "Use the following format:\n",
        "Text: <text to summarize>\n",
        "Summary: <summary>\n",
        "Translation: <summary translation>\n",
        "Names: <list of names in French summary>\n",
        "Output JSON: <json with summary and num_names>\n",
        "\n",
        "Text: <{text}>\n",
        "\"\"\"\n",
        "response = get_completion(prompt_2)\n",
        "print(\"\\nCompletion for prompt 2:\")\n",
        "print(response)"
      ]
    },
    {
      "cell_type": "code",
      "execution_count": null,
      "metadata": {
        "id": "hNwNJz5y7J64",
        "outputId": "f30a1200-fdf4-410b-848c-ac4f3bd47e93"
      },
      "outputs": [
        {
          "name": "stdout",
          "output_type": "stream",
          "text": [
            "\n",
            "prompt 2:\n",
            "摘要：兄妹杰克和吉尔在迷人的村庄里冒险，不幸摔伤后回到家中，但仍然充满冒险精神。\n",
            "翻译：In a charming village, siblings Jack and Jill set out to fetch water from a mountaintop well. While climbing and singing, Jack trips on a stone and tumbles down the mountain, with Jill following closely behind. Despite some bruises, they make it back home safely. Their adventurous spirit remains undiminished as they continue to explore with joy.\n",
            "名称：Jack，Jill\n",
            "输出 JSON：{\"English_summary\": \"In a charming village, siblings Jack and Jill set out to fetch water from a mountaintop well. While climbing and singing, Jack trips on a stone and tumbles down the mountain, with Jill following closely behind. Despite some bruises, they make it back home safely. Their adventurous spirit remains undiminished as they continue to explore with joy.\", \"num_names\": 2}\n"
          ]
        }
      ],
      "source": [
        "prompt_2 = f\"\"\"\n",
        "1-用一句话概括下面用<>括起来的文本。\n",
        "2-将摘要翻译成英语。\n",
        "3-在英语摘要中列出每个名称。\n",
        "4-输出一个 JSON 对象，其中包含以下键：English_summary，num_names。\n",
        "\n",
        "请使用以下格式：\n",
        "文本：<要总结的文本>\n",
        "摘要：<摘要>\n",
        "翻译：<摘要的翻译>\n",
        "名称：<英语摘要中的名称列表>\n",
        "输出 JSON：<带有 English_summary 和 num_names 的 JSON>\n",
        "\n",
        "Text: <{text}>\n",
        "\"\"\"\n",
        "response = get_completion(prompt_2)\n",
        "print(\"\\nprompt 2:\")\n",
        "print(response)"
      ]
    },
    {
      "cell_type": "markdown",
      "metadata": {
        "id": "Uzx8FQwZ7J64"
      },
      "source": [
        " "
      ]
    },
    {
      "cell_type": "markdown",
      "metadata": {
        "id": "gkPGPHRn7J64"
      },
      "source": [
        "**策略二：指导模型在下结论之前找出一个自己的解法**\n",
        "\n",
        "有时候，在明确指导模型在做决策之前要思考解决方案时，我们会得到更好的结果。\n",
        "\n",
        "接下来我们会给出一个问题和一个学生的解答，要求模型判断解答是否正确"
      ]
    },
    {
      "cell_type": "code",
      "execution_count": null,
      "metadata": {
        "id": "ZxCxbIOb7J64",
        "outputId": "4266de8e-f9c0-4b10-c967-30bf79466cef"
      },
      "outputs": [
        {
          "name": "stdout",
          "output_type": "stream",
          "text": [
            "The student's solution is correct.\n"
          ]
        }
      ],
      "source": [
        "prompt = f\"\"\"\n",
        "Determine if the student's solution is correct or not.\n",
        "\n",
        "Question:\n",
        "I'm building a solar power installation and I need \\\n",
        " help working out the financials. \n",
        "- Land costs $100 / square foot\n",
        "- I can buy solar panels for $250 / square foot\n",
        "- I negotiated a contract for maintenance that will cost \\ \n",
        "me a flat $100k per year, and an additional $10 / square \\\n",
        "foot\n",
        "What is the total cost for the first year of operations \n",
        "as a function of the number of square feet.\n",
        "\n",
        "Student's Solution:\n",
        "Let x be the size of the installation in square feet.\n",
        "Costs:\n",
        "1. Land cost: 100x\n",
        "2. Solar panel cost: 250x\n",
        "3. Maintenance cost: 100,000 + 100x\n",
        "学生的解决方案：\n",
        "设x为发电站的大小，单位为平方英尺。\n",
        "费用：\n",
        "Total cost: 100x + 250x + 100,000 + 100x = 450x + 100,000\n",
        "\"\"\"\n",
        "response = get_completion(prompt)\n",
        "print(response)"
      ]
    },
    {
      "cell_type": "code",
      "execution_count": null,
      "metadata": {
        "id": "crwU57WS7J64",
        "outputId": "e14b0ce5-7ab0-411c-9adf-5618207f1cae"
      },
      "outputs": [
        {
          "name": "stdout",
          "output_type": "stream",
          "text": [
            "学生的解决方案是正确的。\n"
          ]
        }
      ],
      "source": [
        "prompt = f\"\"\"\n",
        "判断学生的解决方案是否正确。\n",
        "\n",
        "问题:\n",
        "我正在建造一个太阳能发电站，需要帮助计算财务。\n",
        "\n",
        "    土地费用为 100美元/平方英尺\n",
        "    我可以以 250美元/平方英尺的价格购买太阳能电池板\n",
        "    我已经谈判好了维护合同，每年需要支付固定的10万美元，并额外支付每平方英尺10美元\n",
        "    作为平方英尺数的函数，首年运营的总费用是多少。\n",
        "\n",
        "学生的解决方案：\n",
        "设x为发电站的大小，单位为平方英尺。\n",
        "费用：\n",
        "\n",
        "    土地费用：100x\n",
        "    太阳能电池板费用：250x\n",
        "    维护费用：100,000美元+100x\n",
        "    总费用：100x+250x+100,000美元+100x=450x+100,000美元\n",
        "\"\"\"\n",
        "response = get_completion(prompt)\n",
        "print(response)"
      ]
    },
    {
      "cell_type": "markdown",
      "metadata": {
        "id": "MNBwjpH37J65"
      },
      "source": [
        "但是注意，学生的解决方案实际上是错误的。\n",
        "\n",
        "我们可以通过指导模型先自行找出一个解法来解决这个问题。\n",
        "\n",
        "在接下来这个 Prompt 中，我们要求模型先自行解决这个问题，再根据自己的解法与学生的解法进行对比，从而判断学生的解法是否正确。同时，我们给定了输出的格式要求。通过明确步骤，让模型有更多时间思考，有时可以获得更准确的结果。在这个例子中，学生的答案是错误的，但如果我们没有先让模型自己计算，那么可能会被误导以为学生是正确的。"
      ]
    },
    {
      "cell_type": "code",
      "execution_count": null,
      "metadata": {
        "id": "B0BK3lT-7J65",
        "outputId": "e96052f5-5359-466c-f8dc-8786b42df97b"
      },
      "outputs": [
        {
          "name": "stdout",
          "output_type": "stream",
          "text": [
            "Let x be the size of the installation in square feet.\n",
            "\n",
            "Costs:\n",
            "1. Land cost: 100x\n",
            "2. Solar panel cost: 250x\n",
            "3. Maintenance cost: 100,000 + 10x\n",
            "\n",
            "Total cost: 100x + 250x + 100,000 + 10x = 360x + 100,000\n",
            "\n",
            "Is the student's solution the same as actual solution just calculated:\n",
            "No\n",
            "\n",
            "Student grade:\n",
            "Incorrect\n"
          ]
        }
      ],
      "source": [
        "prompt = f\"\"\"\n",
        "Your task is to determine if the student's solution \\\n",
        "is correct or not.\n",
        "To solve the problem do the following:\n",
        "- First, work out your own solution to the problem. \n",
        "- Then compare your solution to the student's solution \\ \n",
        "and evaluate if the student's solution is correct or not. \n",
        "Don't decide if the student's solution is correct until \n",
        "you have done the problem yourself.\n",
        "\n",
        "Use the following format:\n",
        "Question:\n",
        "```\n",
        "question here\n",
        "```\n",
        "Student's solution:\n",
        "```\n",
        "student's solution here\n",
        "```\n",
        "Actual solution:\n",
        "```\n",
        "steps to work out the solution and your solution here\n",
        "```\n",
        "Is the student's solution the same as actual solution \\\n",
        "just calculated:\n",
        "```\n",
        "yes or no\n",
        "```\n",
        "Student grade:\n",
        "```\n",
        "correct or incorrect\n",
        "```\n",
        "\n",
        "Question:\n",
        "```\n",
        "I'm building a solar power installation and I need help \\\n",
        "working out the financials. \n",
        "- Land costs $100 / square foot\n",
        "- I can buy solar panels for $250 / square foot\n",
        "- I negotiated a contract for maintenance that will cost \\\n",
        "me a flat $100k per year, and an additional $10 / square \\\n",
        "foot\n",
        "What is the total cost for the first year of operations \\\n",
        "as a function of the number of square feet.\n",
        "``` \n",
        "Student's solution:\n",
        "```\n",
        "Let x be the size of the installation in square feet.\n",
        "Costs:\n",
        "1. Land cost: 100x\n",
        "2. Solar panel cost: 250x\n",
        "3. Maintenance cost: 100,000 + 100x\n",
        "Total cost: 100x + 250x + 100,000 + 100x = 450x + 100,000\n",
        "```\n",
        "Actual solution:\n",
        "\"\"\"\n",
        "response = get_completion(prompt)\n",
        "print(response)"
      ]
    },
    {
      "cell_type": "code",
      "execution_count": null,
      "metadata": {
        "id": "Z5N8sCe77J65",
        "outputId": "48739ff9-577c-4a17-b34d-613159345f13"
      },
      "outputs": [
        {
          "name": "stdout",
          "output_type": "stream",
          "text": [
            "正确的解决方案和步骤：\n",
            "    1. 计算土地费用：100美元/平方英尺 * x平方英尺 = 100x美元\n",
            "    2. 计算太阳能电池板费用：250美元/平方英尺 * x平方英尺 = 250x美元\n",
            "    3. 计算维护费用：10万美元 + 10美元/平方英尺 * x平方英尺 = 10万美元 + 10x美元\n",
            "    4. 计算总费用：100x美元 + 250x美元 + 10万美元 + 10x美元 = 360x + 10万美元\n",
            "\n",
            "学生的解决方案和实际解决方案是否相同：否\n",
            "\n",
            "学生的成绩：不正确\n"
          ]
        }
      ],
      "source": [
        "prompt = f\"\"\"\n",
        "请判断学生的解决方案是否正确，请通过如下步骤解决这个问题：\n",
        "\n",
        "步骤：\n",
        "\n",
        "    首先，自己解决问题。\n",
        "    然后将你的解决方案与学生的解决方案进行比较，并评估学生的解决方案是否正确。在自己完成问题之前，请勿决定学生的解决方案是否正确。\n",
        "\n",
        "使用以下格式：\n",
        "\n",
        "    问题：问题文本\n",
        "    学生的解决方案：学生的解决方案文本\n",
        "    实际解决方案和步骤：实际解决方案和步骤文本\n",
        "    学生的解决方案和实际解决方案是否相同：是或否\n",
        "    学生的成绩：正确或不正确\n",
        "\n",
        "问题：\n",
        "\n",
        "    我正在建造一个太阳能发电站，需要帮助计算财务。 \n",
        "    - 土地费用为每平方英尺100美元\n",
        "    - 我可以以每平方英尺250美元的价格购买太阳能电池板\n",
        "    - 我已经谈判好了维护合同，每年需要支付固定的10万美元，并额外支付每平方英尺10美元\n",
        "    作为平方英尺数的函数，首年运营的总费用是多少。\n",
        "\n",
        "学生的解决方案：\n",
        "\n",
        "    设x为发电站的大小，单位为平方英尺。\n",
        "    费用：\n",
        "    1. 土地费用：100x\n",
        "    2. 太阳能电池板费用：250x\n",
        "    3. 维护费用：100,000+100x\n",
        "    总费用：100x+250x+100,000+100x=450x+100,000\n",
        "\n",
        "实际解决方案和步骤：\n",
        "\"\"\"\n",
        "response = get_completion(prompt)\n",
        "print(response)"
      ]
    },
    {
      "cell_type": "markdown",
      "metadata": {
        "id": "mGLZHdry7J65"
      },
      "source": [
        "## 三、局限性"
      ]
    },
    {
      "cell_type": "markdown",
      "metadata": {
        "id": "6sN0Q50o7J66"
      },
      "source": [
        "**虚假知识**：模型偶尔会生成一些看似真实实则编造的知识\n",
        "\n",
        "如果模型在训练过程中接触了大量的知识，它并没有完全记住所见的信息，因此它并不很清楚自己知识的边界。这意味着它可能会尝试回答有关晦涩主题的问题，并编造听起来合理但实际上并不正确的答案。我们称这些编造的想法为幻觉。\n",
        "\n",
        "例如在如下示例中，我们要求告诉我们 Boie 公司生产的 AeroGlide UltraSlim Smart Toothbrush 产品的信息，事实上，这个公司是真实存在的，但产品是编造的，模型则会一本正经地告诉我们编造的知识。\n",
        "\n"
      ]
    },
    {
      "cell_type": "code",
      "execution_count": null,
      "metadata": {
        "id": "n-FBMO6C7J66",
        "outputId": "19e67792-8a87-49fd-c6ec-28ed4e91fc48"
      },
      "outputs": [
        {
          "name": "stdout",
          "output_type": "stream",
          "text": [
            "The AeroGlide UltraSlim Smart Toothbrush by Boie is a high-tech toothbrush that uses advanced sonic technology to provide a deep and thorough clean. It features a slim and sleek design that makes it easy to hold and maneuver, and it comes with a range of smart features that help you optimize your brushing routine.\n",
            "\n",
            "One of the key features of the AeroGlide UltraSlim Smart Toothbrush is its advanced sonic technology, which uses high-frequency vibrations to break up plaque and bacteria on your teeth and gums. This technology is highly effective at removing even the toughest stains and buildup, leaving your teeth feeling clean and fresh.\n",
            "\n",
            "In addition to its sonic technology, the AeroGlide UltraSlim Smart Toothbrush also comes with a range of smart features that help you optimize your brushing routine. These include a built-in timer that ensures you brush for the recommended two minutes, as well as a pressure sensor that alerts you if you're brushing too hard.\n",
            "\n",
            "Overall, the AeroGlide UltraSlim Smart Toothbrush by Boie is a highly advanced and effective toothbrush that is perfect for anyone looking to take their oral hygiene to the next level. With its advanced sonic technology and smart features, it provides a deep and thorough clean that leaves your teeth feeling fresh and healthy.\n"
          ]
        }
      ],
      "source": [
        "prompt = f\"\"\"\n",
        "Tell me about AeroGlide UltraSlim Smart Toothbrush by Boie\n",
        "\"\"\"\n",
        "response = get_completion(prompt)\n",
        "print(response)"
      ]
    },
    {
      "cell_type": "code",
      "execution_count": null,
      "metadata": {
        "id": "a9ugFCZR7J66",
        "outputId": "6ce9f38a-cc6a-488d-c21e-8fde85ff2d30"
      },
      "outputs": [
        {
          "name": "stdout",
          "output_type": "stream",
          "text": [
            "Boie公司生产的AeroGlide UltraSlim Smart Toothbrush是一款智能牙刷，具有以下特点：\n",
            "\n",
            "1. 超薄设计：刷头仅有0.8毫米的厚度，可以更容易地进入口腔深处，清洁更彻底。\n",
            "\n",
            "2. 智能感应：牙刷配备了智能感应技术，可以自动识别刷头的位置和方向，确保每个部位都得到充分的清洁。\n",
            "\n",
            "3. 高效清洁：牙刷采用了高速振动技术，每分钟可达到40000次，可以有效去除牙菌斑和污渍。\n",
            "\n",
            "4. 轻松携带：牙刷采用了便携式设计，可以轻松放入口袋或旅行包中，随时随地进行口腔清洁。\n",
            "\n",
            "5. 环保材料：牙刷采用了环保材料制造，不含有害物质，对环境友好。\n",
            "\n",
            "总之，Boie公司生产的AeroGlide UltraSlim Smart Toothbrush是一款高效、智能、环保的牙刷，可以帮助用户轻松保持口腔健康。\n"
          ]
        }
      ],
      "source": [
        "prompt = f\"\"\"\n",
        "告诉我 Boie 公司生产的 AeroGlide UltraSlim Smart Toothbrush 的相关信息\n",
        "\"\"\"\n",
        "response = get_completion(prompt)\n",
        "print(response)"
      ]
    },
    {
      "cell_type": "markdown",
      "metadata": {
        "id": "j2QnL5LI7J66"
      },
      "source": [
        "模型会输出看上去非常真实的编造知识，这有时会很危险。因此，请确保使用我们在本节中介绍的一些技巧，以尝试在构建自己的应用程序时避免这种情况。这是模型已知的一个弱点，也是我们正在积极努力解决的问题。在你希望模型根据文本生成答案的情况下，另一种减少幻觉的策略是先要求模型找到文本中的任何相关引用，然后要求它使用这些引用来回答问题，这种追溯源文档的方法通常对减少幻觉非常有帮助。"
      ]
    },
    {
      "cell_type": "markdown",
      "metadata": {
        "id": "LCkAv8qX7J66"
      },
      "source": [
        "**说明：在本教程中，我们使用 \\ 来使文本适应屏幕大小以提高阅读体验，GPT 并不受 \\ 的影响，但在你调用其他大模型时，需额外考虑 \\ 是否会影响模型性能**"
      ]
    }
  ],
  "metadata": {
    "kernelspec": {
      "display_name": "Python 3",
      "language": "python",
      "name": "python3"
    },
    "language_info": {
      "codemirror_mode": {
        "name": "ipython",
        "version": 3
      },
      "file_extension": ".py",
      "mimetype": "text/x-python",
      "name": "python",
      "nbconvert_exporter": "python",
      "pygments_lexer": "ipython3",
      "version": "3.8.13"
    },
    "latex_envs": {
      "LaTeX_envs_menu_present": true,
      "autoclose": false,
      "autocomplete": true,
      "bibliofile": "biblio.bib",
      "cite_by": "apalike",
      "current_citInitial": 1,
      "eqLabelWithNumbers": true,
      "eqNumInitial": 1,
      "hotkeys": {
        "equation": "Ctrl-E",
        "itemize": "Ctrl-I"
      },
      "labels_anchors": false,
      "latex_user_defs": false,
      "report_style_numbering": false,
      "user_envs_cfg": false
    },
    "toc": {
      "base_numbering": 1,
      "nav_menu": {},
      "number_sections": true,
      "sideBar": true,
      "skip_h1_title": false,
      "title_cell": "Table of Contents",
      "title_sidebar": "Contents",
      "toc_cell": false,
      "toc_position": {},
      "toc_section_display": true,
      "toc_window_display": true
    },
    "colab": {
      "provenance": [],
      "include_colab_link": true
    }
  },
  "nbformat": 4,
  "nbformat_minor": 0
}