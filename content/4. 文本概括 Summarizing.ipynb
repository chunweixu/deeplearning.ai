{
  "cells": [
    {
      "cell_type": "markdown",
      "metadata": {
        "id": "view-in-github",
        "colab_type": "text"
      },
      "source": [
        "<a href=\"https://colab.research.google.com/github/chunweixu/repo/blob/main/content/4.%20%E6%96%87%E6%9C%AC%E6%A6%82%E6%8B%AC%20Summarizing.ipynb\" target=\"_parent\"><img src=\"https://colab.research.google.com/assets/colab-badge.svg\" alt=\"Open In Colab\"/></a>"
      ]
    },
    {
      "cell_type": "markdown",
      "id": "b58204ea",
      "metadata": {
        "id": "b58204ea"
      },
      "source": [
        "# 文本概括 Summarizing"
      ]
    },
    {
      "cell_type": "markdown",
      "source": [
        "## 吴恩达老师的Prompt Engineering课程学习\n",
        "\n",
        "本项目由李鲁鲁老师在DataWahle翻译的中文版本的吴恩达老师与 OpenAI 合作推出的 《ChatGPT Prompt Engineering for Developers》基础上，进行了一些自己的实践思考。\n",
        "\n",
        "原来项目的链接是 [https://github.com/datawhalechina/prompt-engineering-for-developers](https://github.com/datawhalechina/prompt-engineering-for-developers)\n",
        "\n",
        "每一课都在colab上进行了改造，并将链接放在了readme，可以直接用colab进行学习。"
      ],
      "metadata": {
        "id": "S8c_k_YuJ0kq"
      },
      "id": "S8c_k_YuJ0kq"
    },
    {
      "cell_type": "code",
      "source": [
        "! pip install openai\n",
        "! pip install python-dotenv"
      ],
      "metadata": {
        "id": "3raRrHF_J437"
      },
      "id": "3raRrHF_J437",
      "execution_count": null,
      "outputs": []
    },
    {
      "cell_type": "markdown",
      "id": "b70ad003",
      "metadata": {
        "id": "b70ad003"
      },
      "source": [
        "## 1 引言"
      ]
    },
    {
      "cell_type": "markdown",
      "id": "12fa9ea4",
      "metadata": {
        "id": "12fa9ea4"
      },
      "source": [
        "当今世界上有太多的文本信息，几乎没有人能够拥有足够的时间去阅读所有我们想了解的东西。但令人感到欣喜的是，目前LLM在文本概括任务上展现了强大的水准，也已经有不少团队将这项功能插入了自己的软件应用中。\n",
        "\n",
        "本章节将介绍如何使用编程的方式，调用API接口来实现“文本概括”功能。"
      ]
    },
    {
      "cell_type": "markdown",
      "id": "1de4fd1e",
      "metadata": {
        "id": "1de4fd1e"
      },
      "source": [
        "首先，我们需要OpenAI包，加载API密钥，定义getCompletion函数。"
      ]
    },
    {
      "cell_type": "code",
      "execution_count": null,
      "id": "9f679f1f",
      "metadata": {
        "id": "9f679f1f"
      },
      "outputs": [],
      "source": [
        "import openai\n",
        "import os\n",
        "# OPENAI_API_KEY = os.environ.get(\"OPENAI_API_KEY\")\n",
        "openai.api_key = 'sk-' # 在这里输入你的openAI token\n",
        "\n",
        "def get_completion(prompt, model=\"gpt-3.5-turbo\"): \n",
        "    messages = [{\"role\": \"user\", \"content\": prompt}]\n",
        "    response = openai.ChatCompletion.create(\n",
        "        model=model,\n",
        "        messages=messages,\n",
        "        temperature=0, # 值越低则输出文本随机性越低\n",
        "    )\n",
        "    return response.choices[0].message[\"content\"]"
      ]
    },
    {
      "cell_type": "markdown",
      "id": "9cca835b",
      "metadata": {
        "id": "9cca835b"
      },
      "source": [
        "## 2 单一文本概括Prompt实验"
      ]
    },
    {
      "cell_type": "markdown",
      "id": "0c1e1b92",
      "metadata": {
        "id": "0c1e1b92"
      },
      "source": [
        "这里我们举了个商品评论的例子。对于电商平台来说，网站上往往存在着海量的商品评论，这些评论反映了所有客户的想法。如果我们拥有一个工具去概括这些海量、冗长的评论，便能够快速地浏览更多评论，洞悉客户的偏好，从而指导平台与商家提供更优质的服务。"
      ]
    },
    {
      "cell_type": "markdown",
      "id": "9dc2e2bc",
      "metadata": {
        "id": "9dc2e2bc"
      },
      "source": [
        "**输入文本**"
      ]
    },
    {
      "cell_type": "code",
      "execution_count": null,
      "id": "4d9c0eeb",
      "metadata": {
        "id": "4d9c0eeb"
      },
      "outputs": [],
      "source": [
        "prod_review = \"\"\"\n",
        "Got this panda plush toy for my daughter's birthday, \\\n",
        "who loves it and takes it everywhere. It's soft and \\ \n",
        "super cute, and its face has a friendly look. It's \\ \n",
        "a bit small for what I paid though. I think there \\ \n",
        "might be other options that are bigger for the \\ \n",
        "same price. It arrived a day earlier than expected, \\ \n",
        "so I got to play with it myself before I gave it \\ \n",
        "to her.\n",
        "\"\"\""
      ]
    },
    {
      "cell_type": "markdown",
      "id": "aad5bd2a",
      "metadata": {
        "id": "aad5bd2a"
      },
      "source": [
        "**输入文本（中文翻译）**"
      ]
    },
    {
      "cell_type": "code",
      "execution_count": null,
      "id": "43b5dd25",
      "metadata": {
        "id": "43b5dd25"
      },
      "outputs": [],
      "source": [
        "prod_review_zh = \"\"\"\n",
        "这个熊猫公仔是我给女儿的生日礼物，她很喜欢，去哪都带着。\n",
        "公仔很软，超级可爱，面部表情也很和善。但是相比于价钱来说，\n",
        "它有点小，我感觉在别的地方用同样的价钱能买到更大的。\n",
        "快递比预期提前了一天到货，所以在送给女儿之前，我自己玩了会。\n",
        "\"\"\""
      ]
    },
    {
      "cell_type": "markdown",
      "id": "662c9cd2",
      "metadata": {
        "id": "662c9cd2"
      },
      "source": [
        "### 2.1 限制输出文本长度"
      ]
    },
    {
      "cell_type": "markdown",
      "id": "a6d10814",
      "metadata": {
        "id": "a6d10814"
      },
      "source": [
        "我们尝试限制文本长度为最多30词。"
      ]
    },
    {
      "cell_type": "code",
      "execution_count": null,
      "id": "02208fbc",
      "metadata": {
        "id": "02208fbc",
        "outputId": "8e897120-8c16-44f7-bd99-871425cfc099",
        "colab": {
          "base_uri": "https://localhost:8080/"
        }
      },
      "outputs": [
        {
          "output_type": "stream",
          "name": "stdout",
          "text": [
            "Soft and cute panda plush toy loved by daughter, but a bit small for the price. Arrived early.\n"
          ]
        }
      ],
      "source": [
        "prompt = f\"\"\"\n",
        "Your task is to generate a short summary of a product \\\n",
        "review from an ecommerce site. \n",
        "\n",
        "Summarize the review below, delimited by triple \n",
        "backticks, in at most 30 words. \n",
        "\n",
        "Review: ```{prod_review}```\n",
        "\"\"\"\n",
        "\n",
        "response = get_completion(prompt)\n",
        "print(response)"
      ]
    },
    {
      "cell_type": "markdown",
      "id": "0df0eb90",
      "metadata": {
        "id": "0df0eb90"
      },
      "source": [
        "中文翻译版本"
      ]
    },
    {
      "cell_type": "code",
      "execution_count": null,
      "id": "bf4b39f9",
      "metadata": {
        "id": "bf4b39f9",
        "outputId": "b467d24f-b94b-4a89-e6d0-b815f0b55ea8",
        "colab": {
          "base_uri": "https://localhost:8080/"
        }
      },
      "outputs": [
        {
          "output_type": "stream",
          "name": "stdout",
          "text": [
            "可爱软熊猫公仔，女儿喜欢，面部表情友好，但价钱有点贵，大小不够。快递提前一天到货。\n"
          ]
        }
      ],
      "source": [
        "prompt = f\"\"\"\n",
        "你的任务是从电子商务网站上生成一个产品评论的简短摘要。\n",
        "\n",
        "请对三个反引号之间的评论文本进行概括，最多30个词汇。\n",
        "\n",
        "评论: ```{prod_review_zh}```\n",
        "\"\"\"\n",
        "\n",
        "response = get_completion(prompt)\n",
        "print(response)"
      ]
    },
    {
      "cell_type": "markdown",
      "source": [
        "李鲁鲁：让我们试一段修仙小说吧"
      ],
      "metadata": {
        "id": "1Vb2NB5bKXZ7"
      },
      "id": "1Vb2NB5bKXZ7"
    },
    {
      "cell_type": "code",
      "source": [
        "fiction_text = \"\"\"\n",
        "做完了这一切后，韩立才放下心来，取出了的灰色小剑符宝，盘膝坐下来，开始施法，意图在最短时间内驱动符宝飞起攻敌。\n",
        "\n",
        "就在这时，对面的“陆师兄”终于在青蛟旗上聚集了足够多的灵气，发起暴风骤雨般的攻击。\n",
        "\n",
        "只见他停止了挥舞旗子，而把旗尖猛然冲韩立一指，顿时，十几道半月形的青色风刃，争先恐后的从旗尖上窜出，呜呜的冲向了韩立。\n",
        "\n",
        "这些风刃的速度太快了，刚才还在“陆师兄”那边，可眨眼间就已到了韩立的这头。真不亏是风系法术，攻击的速度比其他属性的法术，快了一半还要多。\n",
        "\n",
        "要不是，事先做好了防护的准备，韩立恐怕连反应的时间都没有，就已被这些风刃斩成了十来截。\n",
        "\n",
        "韩立心里正吃惊之时，风刃和最外层的精钢环发生了激烈的碰撞，青色和黄色的光芒闪耀个不停，还发出了“噗噗！”的切击声。\n",
        "\n",
        "等光芒全都消失之时，原本光滑无比的钢环外壁上，多了十几道纵横交错的尺许长沟槽，整个法器已显的破破烂烂。不过幸亏此法器在被攻击时是不停转动的，才没让这些风刃攻击到同一个部位，否则早已破环而入了。\n",
        "\n",
        "这种结果，韩立和“陆师兄”都感到了意外。\n",
        "\n",
        "韩立是觉得，这钢环法器的原本用途虽然并不是专门防御的，但它可是货真价实的上品法器，质地材料那是无话可说的。可没想到只是些区区的风刃，就能把它切割的七零八落，几乎就要彻底毁掉，这不禁让他忧心忡忡，不知能否接下对方后续的攻势。\n",
        "\n",
        "“陆师兄”则更为愕然。这青蛟旗在顶级法器中可是大大有名，是他为了配合自身的灵根属性，不知花费了多少心血，付出了多少代价才弄到手的。\n",
        "\"\"\""
      ],
      "metadata": {
        "id": "Q4XhSB5DKczI"
      },
      "id": "Q4XhSB5DKczI",
      "execution_count": null,
      "outputs": []
    },
    {
      "cell_type": "code",
      "source": [
        "prompt = f\"\"\"\n",
        "你的任务是从中文小说上生成一个小说内容的简短摘要。\n",
        "\n",
        "请对三个反引号之间的评论文本进行概括，最多30个词汇。\n",
        "\n",
        "评论: ```{fiction_text}```\n",
        "\"\"\"\n",
        "\n",
        "response = get_completion(prompt)\n",
        "print(response)"
      ],
      "metadata": {
        "id": "y0z_oPc8KuEy",
        "outputId": "58f82f82-e8dd-448f-b6fa-fad2c0859b4c",
        "colab": {
          "base_uri": "https://localhost:8080/"
        }
      },
      "id": "y0z_oPc8KuEy",
      "execution_count": null,
      "outputs": [
        {
          "output_type": "stream",
          "name": "stdout",
          "text": [
            "韩立使用灰色小剑符宝攻击敌人，但被陆师兄的青蛟旗发起暴风骤雨般的攻击。韩立成功防御了攻击，但钢环法器已经破烂不堪，让他忧心忡忡。陆师兄也感到意外，因为青蛟旗是他花费心血得到的顶级法器。\n"
          ]
        }
      ]
    },
    {
      "cell_type": "markdown",
      "id": "e9ab145e",
      "metadata": {
        "id": "e9ab145e"
      },
      "source": [
        "### 2.2 关键角度侧重"
      ]
    },
    {
      "cell_type": "markdown",
      "id": "f84d0123",
      "metadata": {
        "id": "f84d0123"
      },
      "source": [
        "有时，针对不同的业务，我们对文本的侧重会有所不同。例如对于商品评论文本，物流会更关心运输时效，商家更加关心价格与商品质量，平台更关心整体服务体验。\n",
        "\n",
        "我们可以通过增加Prompt提示，来体现对于某个特定角度的侧重。"
      ]
    },
    {
      "cell_type": "markdown",
      "id": "d6f8509a",
      "metadata": {
        "id": "d6f8509a"
      },
      "source": [
        "**侧重于运输**"
      ]
    },
    {
      "cell_type": "code",
      "execution_count": null,
      "id": "9d8a32a6",
      "metadata": {
        "id": "9d8a32a6",
        "outputId": "b3f03989-671b-4a01-dfb9-ee62fcce4487",
        "colab": {
          "base_uri": "https://localhost:8080/"
        }
      },
      "outputs": [
        {
          "output_type": "stream",
          "name": "stdout",
          "text": [
            "The panda plush toy arrived a day earlier than expected, but the customer felt it was a bit small for the price paid.\n"
          ]
        }
      ],
      "source": [
        "prompt = f\"\"\"\n",
        "Your task is to generate a short summary of a product \\\n",
        "review from an ecommerce site to give feedback to the \\\n",
        "Shipping deparmtment. \n",
        "\n",
        "Summarize the review below, delimited by triple \n",
        "backticks, in at most 30 words, and focusing on any aspects \\\n",
        "that mention shipping and delivery of the product. \n",
        "\n",
        "Review: ```{prod_review}```\n",
        "\"\"\"\n",
        "\n",
        "response = get_completion(prompt)\n",
        "print(response)"
      ]
    },
    {
      "cell_type": "markdown",
      "id": "0bd4243a",
      "metadata": {
        "id": "0bd4243a"
      },
      "source": [
        "中文翻译版本"
      ]
    },
    {
      "cell_type": "code",
      "execution_count": null,
      "id": "80636c3e",
      "metadata": {
        "id": "80636c3e",
        "outputId": "f3e0fda0-ed03-4762-b17b-5d7adff1b34d",
        "colab": {
          "base_uri": "https://localhost:8080/"
        }
      },
      "outputs": [
        {
          "output_type": "stream",
          "name": "stdout",
          "text": [
            "快递提前一天到货，熊猫公仔很软可爱，但有点小，价钱不太划算。\n"
          ]
        }
      ],
      "source": [
        "prompt = f\"\"\"\n",
        "你的任务是从电子商务网站上生成一个产品评论的简短摘要。\n",
        "\n",
        "请对三个反引号之间的评论文本进行概括，最多30个词汇，并且聚焦在产品运输上。\n",
        "\n",
        "评论: ```{prod_review_zh}```\n",
        "\"\"\"\n",
        "\n",
        "response = get_completion(prompt)\n",
        "print(response)"
      ]
    },
    {
      "cell_type": "markdown",
      "id": "76c97fea",
      "metadata": {
        "id": "76c97fea"
      },
      "source": [
        "可以看到，输出结果以“快递提前一天到货”开头，体现了对于快递效率的侧重。"
      ]
    },
    {
      "cell_type": "markdown",
      "id": "83275907",
      "metadata": {
        "id": "83275907"
      },
      "source": [
        "**侧重于价格与质量**"
      ]
    },
    {
      "cell_type": "code",
      "execution_count": null,
      "id": "767f252c",
      "metadata": {
        "id": "767f252c",
        "outputId": "2bfb603c-4085-425a-9cac-e3239bf6cd72",
        "colab": {
          "base_uri": "https://localhost:8080/"
        }
      },
      "outputs": [
        {
          "output_type": "stream",
          "name": "stdout",
          "text": [
            "The panda plush toy is soft, cute, and loved by the recipient, but the price may be too high for its size.\n"
          ]
        }
      ],
      "source": [
        "prompt = f\"\"\"\n",
        "Your task is to generate a short summary of a product \\\n",
        "review from an ecommerce site to give feedback to the \\\n",
        "pricing deparmtment, responsible for determining the \\\n",
        "price of the product.  \n",
        "\n",
        "Summarize the review below, delimited by triple \n",
        "backticks, in at most 30 words, and focusing on any aspects \\\n",
        "that are relevant to the price and perceived value. \n",
        "\n",
        "Review: ```{prod_review}```\n",
        "\"\"\"\n",
        "\n",
        "response = get_completion(prompt)\n",
        "print(response)"
      ]
    },
    {
      "cell_type": "markdown",
      "id": "cf54fac4",
      "metadata": {
        "id": "cf54fac4"
      },
      "source": [
        "中文翻译版本"
      ]
    },
    {
      "cell_type": "code",
      "execution_count": null,
      "id": "728d6c57",
      "metadata": {
        "id": "728d6c57",
        "outputId": "b03a296f-39ac-4e6f-8b66-bc09c2c2ab7e",
        "colab": {
          "base_uri": "https://localhost:8080/"
        }
      },
      "outputs": [
        {
          "output_type": "stream",
          "name": "stdout",
          "text": [
            "可爱软熊猫公仔，面部表情友好，但价钱有点高，尺寸较小。快递提前一天到货。\n"
          ]
        }
      ],
      "source": [
        "prompt = f\"\"\"\n",
        "你的任务是从电子商务网站上生成一个产品评论的简短摘要。\n",
        "\n",
        "请对三个反引号之间的评论文本进行概括，最多30个词汇，并且聚焦在产品价格和质量上。\n",
        "\n",
        "评论: ```{prod_review_zh}```\n",
        "\"\"\"\n",
        "\n",
        "response = get_completion(prompt)\n",
        "print(response)"
      ]
    },
    {
      "cell_type": "markdown",
      "id": "972dbb1b",
      "metadata": {
        "id": "972dbb1b"
      },
      "source": [
        "可以看到，输出结果以“质量好、价格小贵、尺寸小”开头，体现了对于产品价格与质量的侧重。"
      ]
    },
    {
      "cell_type": "markdown",
      "source": [
        "李鲁鲁：那我们也拿小说试试吧"
      ],
      "metadata": {
        "id": "de8WkH2OLIyI"
      },
      "id": "de8WkH2OLIyI"
    },
    {
      "cell_type": "code",
      "source": [
        "prompt = f\"\"\"\n",
        "你的任务是从中文小说上生成一个小说内容的简短摘要。\n",
        "\n",
        "请对三个反引号之间的评论文本进行概括，最多30个词汇，并且聚焦在技能和法器的使用，以及对应的结果和效果上。\n",
        "\n",
        "评论: ```{fiction_text}```\n",
        "\"\"\"\n",
        "\n",
        "response = get_completion(prompt)\n",
        "print(response)"
      ],
      "metadata": {
        "id": "GvRUfDxULLQu",
        "outputId": "4922135f-4fbc-4004-c5e5-9685041e08cc",
        "colab": {
          "base_uri": "https://localhost:8080/"
        }
      },
      "id": "GvRUfDxULLQu",
      "execution_count": null,
      "outputs": [
        {
          "output_type": "stream",
          "name": "stdout",
          "text": [
            "韩立使用灰色小剑符宝攻击敌人，但被陆师兄的青蛟旗发起暴风骤雨般的攻击。韩立成功防御了攻击，但陆师兄也感到意外，因为他的青蛟旗在顶级法器中非常有名。\n"
          ]
        }
      ]
    },
    {
      "cell_type": "markdown",
      "id": "b3ed53d2",
      "metadata": {
        "id": "b3ed53d2"
      },
      "source": [
        "### 2.3 关键信息提取"
      ]
    },
    {
      "cell_type": "markdown",
      "id": "ba6f5c25",
      "metadata": {
        "id": "ba6f5c25"
      },
      "source": [
        "在2.2节中，虽然我们通过添加关键角度侧重的Prompt，使得文本摘要更侧重于某一特定方面，但是可以发现，结果中也会保留一些其他信息，如价格与质量角度的概括中仍保留了“快递提前到货”的信息。有时这些信息是有帮助的，但如果我们只想要提取某一角度的信息，并过滤掉其他所有信息，则可以要求LLM进行“文本提取(Extract)”而非“文本概括(Summarize)”。"
      ]
    },
    {
      "cell_type": "code",
      "execution_count": null,
      "id": "2d60dc58",
      "metadata": {
        "id": "2d60dc58",
        "outputId": "af936ecd-180e-4f68-df62-3e86dc25c67b",
        "colab": {
          "base_uri": "https://localhost:8080/"
        }
      },
      "outputs": [
        {
          "output_type": "stream",
          "name": "stdout",
          "text": [
            "The product arrived a day earlier than expected.\n"
          ]
        }
      ],
      "source": [
        "prompt = f\"\"\"\n",
        "Your task is to extract relevant information from \\ \n",
        "a product review from an ecommerce site to give \\\n",
        "feedback to the Shipping department. \n",
        "\n",
        "From the review below, delimited by triple quotes \\\n",
        "extract the information relevant to shipping and \\ \n",
        "delivery. Limit to 30 words. \n",
        "\n",
        "Review: ```{prod_review}```\n",
        "\"\"\"\n",
        "\n",
        "response = get_completion(prompt)\n",
        "print(response)"
      ]
    },
    {
      "cell_type": "markdown",
      "id": "0339b877",
      "metadata": {
        "id": "0339b877"
      },
      "source": [
        "中文翻译版本"
      ]
    },
    {
      "cell_type": "code",
      "execution_count": null,
      "id": "c845ccab",
      "metadata": {
        "id": "c845ccab",
        "outputId": "a0f8a563-0b80-4548-cf27-234b692178a0",
        "colab": {
          "base_uri": "https://localhost:8080/"
        }
      },
      "outputs": [
        {
          "output_type": "stream",
          "name": "stdout",
          "text": [
            "快递比预期提前了一天到货。\n"
          ]
        }
      ],
      "source": [
        "prompt = f\"\"\"\n",
        "你的任务是从电子商务网站上的产品评论中提取相关信息。\n",
        "\n",
        "请从以下三个反引号之间的评论文本中提取产品运输相关的信息，最多30个词汇。\n",
        "\n",
        "评论: ```{prod_review_zh}```\n",
        "\"\"\"\n",
        "\n",
        "response = get_completion(prompt)\n",
        "print(response)"
      ]
    },
    {
      "cell_type": "markdown",
      "id": "50498a2b",
      "metadata": {
        "id": "50498a2b"
      },
      "source": [
        "## 3 多条文本概括Prompt实验"
      ]
    },
    {
      "cell_type": "markdown",
      "id": "a291541a",
      "metadata": {
        "id": "a291541a"
      },
      "source": [
        "在实际的工作流中，我们往往有许许多多的评论文本，以下展示了一个基于for循环调用“文本概括”工具并依次打印的示例。当然，在实际生产中，对于上百万甚至上千万的评论文本，使用for循环也是不现实的，可能需要考虑整合评论、分布式等方法提升运算效率。"
      ]
    },
    {
      "cell_type": "code",
      "execution_count": null,
      "id": "ee7caa78",
      "metadata": {
        "id": "ee7caa78"
      },
      "outputs": [],
      "source": [
        "review_1 = prod_review \n",
        "\n",
        "# review for a standing lamp\n",
        "review_2 = \"\"\"\n",
        "Needed a nice lamp for my bedroom, and this one \\\n",
        "had additional storage and not too high of a price \\\n",
        "point. Got it fast - arrived in 2 days. The string \\\n",
        "to the lamp broke during the transit and the company \\\n",
        "happily sent over a new one. Came within a few days \\\n",
        "as well. It was easy to put together. Then I had a \\\n",
        "missing part, so I contacted their support and they \\\n",
        "very quickly got me the missing piece! Seems to me \\\n",
        "to be a great company that cares about their customers \\\n",
        "and products. \n",
        "\"\"\"\n",
        "\n",
        "# review for an electric toothbrush\n",
        "review_3 = \"\"\"\n",
        "My dental hygienist recommended an electric toothbrush, \\\n",
        "which is why I got this. The battery life seems to be \\\n",
        "pretty impressive so far. After initial charging and \\\n",
        "leaving the charger plugged in for the first week to \\\n",
        "condition the battery, I've unplugged the charger and \\\n",
        "been using it for twice daily brushing for the last \\\n",
        "3 weeks all on the same charge. But the toothbrush head \\\n",
        "is too small. I’ve seen baby toothbrushes bigger than \\\n",
        "this one. I wish the head was bigger with different \\\n",
        "length bristles to get between teeth better because \\\n",
        "this one doesn’t.  Overall if you can get this one \\\n",
        "around the $50 mark, it's a good deal. The manufactuer's \\\n",
        "replacements heads are pretty expensive, but you can \\\n",
        "get generic ones that're more reasonably priced. This \\\n",
        "toothbrush makes me feel like I've been to the dentist \\\n",
        "every day. My teeth feel sparkly clean! \n",
        "\"\"\"\n",
        "\n",
        "# review for a blender\n",
        "review_4 = \"\"\"\n",
        "So, they still had the 17 piece system on seasonal \\\n",
        "sale for around $49 in the month of November, about \\\n",
        "half off, but for some reason (call it price gouging) \\\n",
        "around the second week of December the prices all went \\\n",
        "up to about anywhere from between $70-$89 for the same \\\n",
        "system. And the 11 piece system went up around $10 or \\\n",
        "so in price also from the earlier sale price of $29. \\\n",
        "So it looks okay, but if you look at the base, the part \\\n",
        "where the blade locks into place doesn’t look as good \\\n",
        "as in previous editions from a few years ago, but I \\\n",
        "plan to be very gentle with it (example, I crush \\\n",
        "very hard items like beans, ice, rice, etc. in the \\ \n",
        "blender first then pulverize them in the serving size \\\n",
        "I want in the blender then switch to the whipping \\\n",
        "blade for a finer flour, and use the cross cutting blade \\\n",
        "first when making smoothies, then use the flat blade \\\n",
        "if I need them finer/less pulpy). Special tip when making \\\n",
        "smoothies, finely cut and freeze the fruits and \\\n",
        "vegetables (if using spinach-lightly stew soften the \\ \n",
        "spinach then freeze until ready for use-and if making \\\n",
        "sorbet, use a small to medium sized food processor) \\ \n",
        "that you plan to use that way you can avoid adding so \\\n",
        "much ice if at all-when making your smoothie. \\\n",
        "After about a year, the motor was making a funny noise. \\\n",
        "I called customer service but the warranty expired \\\n",
        "already, so I had to buy another one. FYI: The overall \\\n",
        "quality has gone done in these types of products, so \\\n",
        "they are kind of counting on brand recognition and \\\n",
        "consumer loyalty to maintain sales. Got it in about \\\n",
        "two days.\n",
        "\"\"\"\n",
        "\n",
        "reviews = [review_1, review_2, review_3, review_4]"
      ]
    },
    {
      "cell_type": "code",
      "execution_count": null,
      "id": "9d1aa5ac",
      "metadata": {
        "id": "9d1aa5ac",
        "outputId": "a34b29d4-4406-44b5-9efc-e1d03f67f317"
      },
      "outputs": [
        {
          "name": "stdout",
          "output_type": "stream",
          "text": [
            "0 Soft and cute panda plush toy loved by daughter, but a bit small for the price. Arrived early. \n",
            "\n",
            "1 Affordable lamp with storage, fast shipping, and excellent customer service. Easy to assemble and missing parts were quickly replaced. \n",
            "\n",
            "2 Good battery life, small toothbrush head, but effective cleaning. Good deal if bought around $50. \n",
            "\n",
            "3 The product was on sale for $49 in November, but the price increased to $70-$89 in December. The base doesn't look as good as previous editions, but the reviewer plans to be gentle with it. A special tip for making smoothies is to freeze the fruits and vegetables beforehand. The motor made a funny noise after a year, and the warranty had expired. Overall quality has decreased. \n",
            "\n"
          ]
        }
      ],
      "source": [
        "for i in range(len(reviews)):\n",
        "    prompt = f\"\"\"\n",
        "    Your task is to generate a short summary of a product \\ \n",
        "    review from an ecommerce site. \n",
        "\n",
        "    Summarize the review below, delimited by triple \\\n",
        "    backticks in at most 20 words. \n",
        "\n",
        "    Review: ```{reviews[i]}```\n",
        "    \"\"\"\n",
        "    response = get_completion(prompt)\n",
        "    print(i, response, \"\\n\")"
      ]
    },
    {
      "cell_type": "markdown",
      "source": [
        "李鲁鲁： 这里我们可以尝试对凡人的整章去进行提取和摘要\n",
        "\n",
        "稍后有空做一下吧"
      ],
      "metadata": {
        "id": "FjWyAIGfL9vv"
      },
      "id": "FjWyAIGfL9vv"
    },
    {
      "cell_type": "code",
      "execution_count": null,
      "id": "eb878522",
      "metadata": {
        "id": "eb878522"
      },
      "outputs": [],
      "source": []
    }
  ],
  "metadata": {
    "kernelspec": {
      "display_name": "Python 3",
      "language": "python",
      "name": "python3"
    },
    "language_info": {
      "codemirror_mode": {
        "name": "ipython",
        "version": 3
      },
      "file_extension": ".py",
      "mimetype": "text/x-python",
      "name": "python",
      "nbconvert_exporter": "python",
      "pygments_lexer": "ipython3",
      "version": "3.8.13"
    },
    "latex_envs": {
      "LaTeX_envs_menu_present": true,
      "autoclose": false,
      "autocomplete": true,
      "bibliofile": "biblio.bib",
      "cite_by": "apalike",
      "current_citInitial": 1,
      "eqLabelWithNumbers": true,
      "eqNumInitial": 1,
      "hotkeys": {
        "equation": "Ctrl-E",
        "itemize": "Ctrl-I"
      },
      "labels_anchors": false,
      "latex_user_defs": false,
      "report_style_numbering": false,
      "user_envs_cfg": false
    },
    "toc": {
      "base_numbering": 1,
      "nav_menu": {},
      "number_sections": true,
      "sideBar": true,
      "skip_h1_title": false,
      "title_cell": "Table of Contents",
      "title_sidebar": "Contents",
      "toc_cell": false,
      "toc_position": {},
      "toc_section_display": true,
      "toc_window_display": true
    },
    "colab": {
      "provenance": [],
      "include_colab_link": true
    }
  },
  "nbformat": 4,
  "nbformat_minor": 5
}